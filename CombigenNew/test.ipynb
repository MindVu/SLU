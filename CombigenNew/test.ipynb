{
 "cells": [
  {
   "cell_type": "code",
   "execution_count": 12,
   "metadata": {},
   "outputs": [],
   "source": [
    "import json\n",
    "import pandas as pd\n",
    "import random\n",
    "import re\n",
    "file_path = \"slu.xlsx\"\n",
    "def read_entity_types(file_path):\n",
    "    entity_types = pd.read_excel(file_path, sheet_name='entity_type')\n",
    "    return entity_types\n",
    "\n",
    "def read_annotation_value(file_path):\n",
    "    annotation_values = pd.read_excel(file_path, sheet_name='chú thích')\n",
    "    return annotation_values\n",
    "\n",
    "annotation_values = read_annotation_value(file_path)\n"
   ]
  },
  {
   "cell_type": "code",
   "execution_count": 68,
   "metadata": {},
   "outputs": [],
   "source": [
    "def update_json_with_entity_types(json_data, entity_types):\n",
    "    for intent_name, combinations_list in json_data.items():\n",
    "        for combination in combinations_list:\n",
    "            for entity, value in combination.items():\n",
    "                entity_type = get_entity_type(entity, entity_types)\n",
    "                value = filling(value)\n",
    "                if entity_type:\n",
    "                    combination[entity] = {'value': value, 'type': entity_type}\n",
    "                else:\n",
    "                    combination[entity] = {'value': value, 'type': ''}\n",
    "    # Save the updated JSON back to the original file\n",
    "    with open('output.json', 'w', encoding='utf-8') as json_file:\n",
    "        json.dump(json_data, json_file, ensure_ascii=False, indent=2)\n",
    "\n",
    "def get_entity_type(entity, entity_types):\n",
    "    for col in entity_types.columns:\n",
    "        if entity in entity_types[col].values:\n",
    "            return col\n",
    "    return None\n",
    "\n",
    "def filling(value):\n",
    "    if value.isdigit():\n",
    "        print(value)\n",
    "    placeholders = re.findall(r'\\<\\s*(.*?)\\s*\\>', value)\n",
    "    print(placeholders)\n",
    "    if len(placeholders) == 0:\n",
    "        return value\n",
    "    for placeholder in placeholders:\n",
    "        value_list = list(annotation_values[f\"<{placeholder}>\"].dropna())\n",
    "        chosen_value = random.choice(value_list)\n",
    "        value = re.sub(fr'\\<{placeholder}\\>', chosen_value, value)\n",
    "        value = filling(value)\n",
    "    return value"
   ]
  },
  {
   "cell_type": "code",
   "execution_count": 70,
   "metadata": {},
   "outputs": [
    {
     "ename": "AttributeError",
     "evalue": "'float' object has no attribute 'isdigit'",
     "output_type": "error",
     "traceback": [
      "\u001b[0;31m---------------------------------------------------------------------------\u001b[0m",
      "\u001b[0;31mAttributeError\u001b[0m                            Traceback (most recent call last)",
      "Cell \u001b[0;32mIn[70], line 1\u001b[0m\n\u001b[0;32m----> 1\u001b[0m \u001b[39mprint\u001b[39m(filling(\u001b[39m1.0\u001b[39;49m))\n",
      "Cell \u001b[0;32mIn[68], line 22\u001b[0m, in \u001b[0;36mfilling\u001b[0;34m(value)\u001b[0m\n\u001b[1;32m     21\u001b[0m \u001b[39mdef\u001b[39;00m \u001b[39mfilling\u001b[39m(value):\n\u001b[0;32m---> 22\u001b[0m     \u001b[39mif\u001b[39;00m value\u001b[39m.\u001b[39;49misdigit():\n\u001b[1;32m     23\u001b[0m         \u001b[39mprint\u001b[39m(value)\n\u001b[1;32m     24\u001b[0m     placeholders \u001b[39m=\u001b[39m re\u001b[39m.\u001b[39mfindall(\u001b[39mr\u001b[39m\u001b[39m'\u001b[39m\u001b[39m\\\u001b[39m\u001b[39m<\u001b[39m\u001b[39m\\\u001b[39m\u001b[39ms*(.*?)\u001b[39m\u001b[39m\\\u001b[39m\u001b[39ms*\u001b[39m\u001b[39m\\\u001b[39m\u001b[39m>\u001b[39m\u001b[39m'\u001b[39m, value)\n",
      "\u001b[0;31mAttributeError\u001b[0m: 'float' object has no attribute 'isdigit'"
     ]
    }
   ],
   "source": [
    "print(filling(1.0))"
   ]
  },
  {
   "cell_type": "code",
   "execution_count": 53,
   "metadata": {},
   "outputs": [
    {
     "name": "stdout",
     "output_type": "stream",
     "text": [
      "<restaurant>\n",
      "nhà hàng Ba con cừu\n",
      "nhà hàng Ba con cừu\n",
      "nhà hàng Ba con cừu\n",
      "None\n"
     ]
    }
   ],
   "source": [
    "filling(\"<eating_place>\")"
   ]
  }
 ],
 "metadata": {
  "kernelspec": {
   "display_name": "Python 3",
   "language": "python",
   "name": "python3"
  },
  "language_info": {
   "codemirror_mode": {
    "name": "ipython",
    "version": 3
   },
   "file_extension": ".py",
   "mimetype": "text/x-python",
   "name": "python",
   "nbconvert_exporter": "python",
   "pygments_lexer": "ipython3",
   "version": "3.8.10"
  },
  "orig_nbformat": 4
 },
 "nbformat": 4,
 "nbformat_minor": 2
}
